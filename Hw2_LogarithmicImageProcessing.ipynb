{
  "nbformat": 4,
  "nbformat_minor": 0,
  "metadata": {
    "colab": {
      "provenance": [],
      "authorship_tag": "ABX9TyMviN4xGlNwuEjRmRtnS15G",
      "include_colab_link": true
    },
    "kernelspec": {
      "name": "python3",
      "display_name": "Python 3"
    },
    "language_info": {
      "name": "python"
    }
  },
  "cells": [
    {
      "cell_type": "markdown",
      "metadata": {
        "id": "view-in-github",
        "colab_type": "text"
      },
      "source": [
        "<a href=\"https://colab.research.google.com/github/alinecdet/csc725/blob/main/Hw2_LogarithmicImageProcessing.ipynb\" target=\"_parent\"><img src=\"https://colab.research.google.com/assets/colab-badge.svg\" alt=\"Open In Colab\"/></a>"
      ]
    },
    {
      "cell_type": "code",
      "execution_count": 3,
      "metadata": {
        "id": "nxeub2rvUazz"
      },
      "outputs": [],
      "source": [
        "#reference : https://pythontic.com/image-processing/pillow/logarithmic%20transformation\n",
        "\n",
        "#----- Example Python program for logarithmic transformation of a Digital Image -----\n",
        "\n",
        "\n",
        "\n",
        "# import Pillow modules\n",
        "\n",
        "from PIL import Image\n",
        "\n",
        "from PIL import ImageFilter\n",
        "\n",
        "import math\n",
        "\n",
        "\n",
        "\n",
        "# Compute log\n",
        "\n",
        "def logTransform(c, f):\n",
        "\n",
        "    g = c * math.log(float(1 + f),10);\n",
        "\n",
        "    return g;\n",
        "\n",
        "\n",
        "\n",
        "# Apply logarithmic transformation for an image\n",
        "\n",
        "def logTransformImage(image, outputMax = 255, inputMax=255):\n",
        "\n",
        "    c = outputMax/math.log(inputMax+1,10);\n",
        "\n",
        "\n",
        "\n",
        "    # Read pixels and apply logarithmic transformation\n",
        "\n",
        "    for i in range(0, img.size[0]-1):\n",
        "\n",
        "        for j in range(0, img.size[1]-1):\n",
        "\n",
        "            # Get pixel value at (x,y) position of the image\n",
        "\n",
        "            f = img.getpixel((i,j));\n",
        "\n",
        "\n",
        "\n",
        "            # Do log transformation of the pixel\n",
        "\n",
        "            redPixel    = round(logTransform(c, f[0]));\n",
        "\n",
        "            greenPixel  = round(logTransform(c, f[1]));\n",
        "\n",
        "            bluePixel   = round(logTransform(c, f[2]));\n",
        "\n",
        "\n",
        "\n",
        "            # Modify the image with the transformed pixel values\n",
        "\n",
        "            img.putpixel((i,j),(redPixel, greenPixel, bluePixel));\n",
        "\n",
        "\n",
        "\n",
        "    return image;\n",
        "\n",
        "\n",
        "\n",
        "# Display the original image\n",
        "\n",
        "imageFileName = \"/content/subtracted.jpg\";\n",
        "\n",
        "img = Image.open(imageFileName);\n",
        "\n",
        "img.show();\n",
        "\n",
        "\n",
        "\n",
        "# Display the image after applying the logarithmic transformation\n",
        "\n",
        "logTransformedImage = logTransformImage(img);\n",
        "\n",
        "logTransformedImage.show();\n",
        "logTransformedImage.save('/content/output.jpg')"
      ]
    }
  ]
}